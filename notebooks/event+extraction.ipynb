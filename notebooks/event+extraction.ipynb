{
 "cells": [
  {
   "cell_type": "code",
   "execution_count": 1,
   "metadata": {
    "collapsed": true
   },
   "outputs": [],
   "source": [
    "import pandas as pd\n",
    "import numpy as np\n",
    "import neuroglia as ng\n"
   ]
  },
  {
   "cell_type": "code",
   "execution_count": 2,
   "metadata": {
    "collapsed": true
   },
   "outputs": [],
   "source": [
    "events = pd.read_csv('events.csv',index_col=0)"
   ]
  },
  {
   "cell_type": "code",
   "execution_count": 3,
   "metadata": {},
   "outputs": [
    {
     "data": {
      "text/html": [
       "<div>\n",
       "<table border=\"1\" class=\"dataframe\">\n",
       "  <thead>\n",
       "    <tr style=\"text-align: right;\">\n",
       "      <th></th>\n",
       "      <th>image_id</th>\n",
       "      <th>start</th>\n",
       "      <th>end</th>\n",
       "      <th>time</th>\n",
       "    </tr>\n",
       "  </thead>\n",
       "  <tbody>\n",
       "    <tr>\n",
       "      <th>0</th>\n",
       "      <td>61</td>\n",
       "      <td>16095</td>\n",
       "      <td>16102</td>\n",
       "      <td>541.40872</td>\n",
       "    </tr>\n",
       "    <tr>\n",
       "      <th>1</th>\n",
       "      <td>115</td>\n",
       "      <td>16102</td>\n",
       "      <td>16109</td>\n",
       "      <td>541.64150</td>\n",
       "    </tr>\n",
       "    <tr>\n",
       "      <th>2</th>\n",
       "      <td>115</td>\n",
       "      <td>16110</td>\n",
       "      <td>16117</td>\n",
       "      <td>541.90753</td>\n",
       "    </tr>\n",
       "    <tr>\n",
       "      <th>3</th>\n",
       "      <td>40</td>\n",
       "      <td>16117</td>\n",
       "      <td>16124</td>\n",
       "      <td>542.14031</td>\n",
       "    </tr>\n",
       "    <tr>\n",
       "      <th>4</th>\n",
       "      <td>101</td>\n",
       "      <td>16125</td>\n",
       "      <td>16132</td>\n",
       "      <td>542.40635</td>\n",
       "    </tr>\n",
       "  </tbody>\n",
       "</table>\n",
       "</div>"
      ],
      "text/plain": [
       "   image_id  start    end       time\n",
       "0        61  16095  16102  541.40872\n",
       "1       115  16102  16109  541.64150\n",
       "2       115  16110  16117  541.90753\n",
       "3        40  16117  16124  542.14031\n",
       "4       101  16125  16132  542.40635"
      ]
     },
     "execution_count": 3,
     "metadata": {},
     "output_type": "execute_result"
    }
   ],
   "source": [
    "events.head()"
   ]
  },
  {
   "cell_type": "code",
   "execution_count": 4,
   "metadata": {
    "collapsed": true
   },
   "outputs": [],
   "source": [
    "timestamps = np.load('timestamps.npy')\n",
    "dff = np.load('dff.npy')"
   ]
  },
  {
   "cell_type": "code",
   "execution_count": 5,
   "metadata": {},
   "outputs": [
    {
     "data": {
      "text/html": [
       "<div>\n",
       "<table border=\"1\" class=\"dataframe\">\n",
       "  <thead>\n",
       "    <tr style=\"text-align: right;\">\n",
       "      <th></th>\n",
       "      <th>0</th>\n",
       "      <th>1</th>\n",
       "      <th>2</th>\n",
       "      <th>3</th>\n",
       "      <th>4</th>\n",
       "      <th>5</th>\n",
       "      <th>6</th>\n",
       "      <th>7</th>\n",
       "      <th>8</th>\n",
       "      <th>9</th>\n",
       "      <th>...</th>\n",
       "      <th>58</th>\n",
       "      <th>59</th>\n",
       "      <th>60</th>\n",
       "      <th>61</th>\n",
       "      <th>62</th>\n",
       "      <th>63</th>\n",
       "      <th>64</th>\n",
       "      <th>65</th>\n",
       "      <th>66</th>\n",
       "      <th>67</th>\n",
       "    </tr>\n",
       "  </thead>\n",
       "  <tbody>\n",
       "    <tr>\n",
       "      <th>6.18305</th>\n",
       "      <td>-0.091435</td>\n",
       "      <td>-0.057228</td>\n",
       "      <td>-0.113410</td>\n",
       "      <td>-0.018366</td>\n",
       "      <td>-0.058567</td>\n",
       "      <td>-0.017618</td>\n",
       "      <td>0.011481</td>\n",
       "      <td>0.056958</td>\n",
       "      <td>0.025251</td>\n",
       "      <td>0.071201</td>\n",
       "      <td>...</td>\n",
       "      <td>-0.075386</td>\n",
       "      <td>-0.064875</td>\n",
       "      <td>-0.071565</td>\n",
       "      <td>0.019540</td>\n",
       "      <td>0.064170</td>\n",
       "      <td>-0.144472</td>\n",
       "      <td>-0.130356</td>\n",
       "      <td>-0.075275</td>\n",
       "      <td>-0.056647</td>\n",
       "      <td>-0.030831</td>\n",
       "    </tr>\n",
       "    <tr>\n",
       "      <th>6.21630</th>\n",
       "      <td>-0.036901</td>\n",
       "      <td>-0.041414</td>\n",
       "      <td>-0.126635</td>\n",
       "      <td>-0.082418</td>\n",
       "      <td>-0.028359</td>\n",
       "      <td>-0.007267</td>\n",
       "      <td>0.002385</td>\n",
       "      <td>0.039544</td>\n",
       "      <td>0.060717</td>\n",
       "      <td>-0.003684</td>\n",
       "      <td>...</td>\n",
       "      <td>-0.048785</td>\n",
       "      <td>0.060133</td>\n",
       "      <td>-0.042139</td>\n",
       "      <td>0.019467</td>\n",
       "      <td>-0.037699</td>\n",
       "      <td>-0.077349</td>\n",
       "      <td>-0.002923</td>\n",
       "      <td>-0.065585</td>\n",
       "      <td>-0.042534</td>\n",
       "      <td>-0.066469</td>\n",
       "    </tr>\n",
       "    <tr>\n",
       "      <th>6.24956</th>\n",
       "      <td>-0.094552</td>\n",
       "      <td>-0.050752</td>\n",
       "      <td>-0.157663</td>\n",
       "      <td>-0.056625</td>\n",
       "      <td>0.032097</td>\n",
       "      <td>-0.082460</td>\n",
       "      <td>-0.022219</td>\n",
       "      <td>-0.047523</td>\n",
       "      <td>-0.011517</td>\n",
       "      <td>-0.050558</td>\n",
       "      <td>...</td>\n",
       "      <td>-0.038371</td>\n",
       "      <td>0.062461</td>\n",
       "      <td>0.054998</td>\n",
       "      <td>-0.009844</td>\n",
       "      <td>0.001376</td>\n",
       "      <td>-0.103788</td>\n",
       "      <td>0.126491</td>\n",
       "      <td>-0.060744</td>\n",
       "      <td>-0.080108</td>\n",
       "      <td>-0.136084</td>\n",
       "    </tr>\n",
       "    <tr>\n",
       "      <th>6.28281</th>\n",
       "      <td>-0.050839</td>\n",
       "      <td>-0.072834</td>\n",
       "      <td>-0.078211</td>\n",
       "      <td>-0.052841</td>\n",
       "      <td>-0.080964</td>\n",
       "      <td>-0.037020</td>\n",
       "      <td>0.003486</td>\n",
       "      <td>-0.017443</td>\n",
       "      <td>0.009277</td>\n",
       "      <td>-0.064238</td>\n",
       "      <td>...</td>\n",
       "      <td>-0.052811</td>\n",
       "      <td>0.020675</td>\n",
       "      <td>0.042299</td>\n",
       "      <td>-0.069828</td>\n",
       "      <td>0.082112</td>\n",
       "      <td>-0.049281</td>\n",
       "      <td>0.000692</td>\n",
       "      <td>-0.107399</td>\n",
       "      <td>0.005489</td>\n",
       "      <td>-0.031315</td>\n",
       "    </tr>\n",
       "    <tr>\n",
       "      <th>6.31606</th>\n",
       "      <td>-0.013625</td>\n",
       "      <td>-0.018929</td>\n",
       "      <td>-0.139947</td>\n",
       "      <td>-0.111368</td>\n",
       "      <td>0.004344</td>\n",
       "      <td>-0.057402</td>\n",
       "      <td>-0.082169</td>\n",
       "      <td>-0.012927</td>\n",
       "      <td>-0.046665</td>\n",
       "      <td>-0.053307</td>\n",
       "      <td>...</td>\n",
       "      <td>-0.050439</td>\n",
       "      <td>-0.056692</td>\n",
       "      <td>0.031534</td>\n",
       "      <td>-0.099023</td>\n",
       "      <td>-0.054193</td>\n",
       "      <td>-0.055991</td>\n",
       "      <td>0.023032</td>\n",
       "      <td>-0.032076</td>\n",
       "      <td>-0.017265</td>\n",
       "      <td>-0.016387</td>\n",
       "    </tr>\n",
       "  </tbody>\n",
       "</table>\n",
       "<p>5 rows × 68 columns</p>\n",
       "</div>"
      ],
      "text/plain": [
       "               0         1         2         3         4         5         6   \\\n",
       "6.18305 -0.091435 -0.057228 -0.113410 -0.018366 -0.058567 -0.017618  0.011481   \n",
       "6.21630 -0.036901 -0.041414 -0.126635 -0.082418 -0.028359 -0.007267  0.002385   \n",
       "6.24956 -0.094552 -0.050752 -0.157663 -0.056625  0.032097 -0.082460 -0.022219   \n",
       "6.28281 -0.050839 -0.072834 -0.078211 -0.052841 -0.080964 -0.037020  0.003486   \n",
       "6.31606 -0.013625 -0.018929 -0.139947 -0.111368  0.004344 -0.057402 -0.082169   \n",
       "\n",
       "               7         8         9     ...           58        59        60  \\\n",
       "6.18305  0.056958  0.025251  0.071201    ...    -0.075386 -0.064875 -0.071565   \n",
       "6.21630  0.039544  0.060717 -0.003684    ...    -0.048785  0.060133 -0.042139   \n",
       "6.24956 -0.047523 -0.011517 -0.050558    ...    -0.038371  0.062461  0.054998   \n",
       "6.28281 -0.017443  0.009277 -0.064238    ...    -0.052811  0.020675  0.042299   \n",
       "6.31606 -0.012927 -0.046665 -0.053307    ...    -0.050439 -0.056692  0.031534   \n",
       "\n",
       "               61        62        63        64        65        66        67  \n",
       "6.18305  0.019540  0.064170 -0.144472 -0.130356 -0.075275 -0.056647 -0.030831  \n",
       "6.21630  0.019467 -0.037699 -0.077349 -0.002923 -0.065585 -0.042534 -0.066469  \n",
       "6.24956 -0.009844  0.001376 -0.103788  0.126491 -0.060744 -0.080108 -0.136084  \n",
       "6.28281 -0.069828  0.082112 -0.049281  0.000692 -0.107399  0.005489 -0.031315  \n",
       "6.31606 -0.099023 -0.054193 -0.055991  0.023032 -0.032076 -0.017265 -0.016387  \n",
       "\n",
       "[5 rows x 68 columns]"
      ]
     },
     "execution_count": 5,
     "metadata": {},
     "output_type": "execute_result"
    }
   ],
   "source": [
    "traces = pd.DataFrame(\n",
    "    dff.T,\n",
    "    columns=range(dff.shape[0]),\n",
    "    index=timestamps,\n",
    ")\n",
    "traces.head()"
   ]
  },
  {
   "cell_type": "code",
   "execution_count": 6,
   "metadata": {
    "collapsed": true
   },
   "outputs": [],
   "source": [
    "from neuroglia.event import MeanResponseExtractor"
   ]
  },
  {
   "cell_type": "code",
   "execution_count": 7,
   "metadata": {
    "collapsed": true
   },
   "outputs": [],
   "source": [
    "mean_response_extractor = MeanResponseExtractor(\n",
    "    traces,\n",
    "    bins=30,\n",
    "    range=(0,1.0),\n",
    ")"
   ]
  },
  {
   "cell_type": "code",
   "execution_count": 8,
   "metadata": {
    "collapsed": true
   },
   "outputs": [],
   "source": [
    "X = mean_response_extractor.fit_transform(events)"
   ]
  },
  {
   "cell_type": "code",
   "execution_count": 9,
   "metadata": {},
   "outputs": [
    {
     "data": {
      "text/plain": [
       "(5950, 68)"
      ]
     },
     "execution_count": 9,
     "metadata": {},
     "output_type": "execute_result"
    }
   ],
   "source": [
    "X.shape"
   ]
  },
  {
   "cell_type": "code",
   "execution_count": 10,
   "metadata": {
    "collapsed": true
   },
   "outputs": [],
   "source": [
    "y = events['image_id']"
   ]
  },
  {
   "cell_type": "code",
   "execution_count": 11,
   "metadata": {
    "collapsed": true
   },
   "outputs": [],
   "source": [
    "from sklearn.linear_model import LogisticRegression"
   ]
  },
  {
   "cell_type": "code",
   "execution_count": 12,
   "metadata": {
    "collapsed": true
   },
   "outputs": [],
   "source": [
    "lm = LogisticRegression()"
   ]
  },
  {
   "cell_type": "code",
   "execution_count": 13,
   "metadata": {},
   "outputs": [
    {
     "data": {
      "text/plain": [
       "LogisticRegression(C=1.0, class_weight=None, dual=False, fit_intercept=True,\n",
       "          intercept_scaling=1, max_iter=100, multi_class='ovr', n_jobs=1,\n",
       "          penalty='l2', random_state=None, solver='liblinear', tol=0.0001,\n",
       "          verbose=0, warm_start=False)"
      ]
     },
     "execution_count": 13,
     "metadata": {},
     "output_type": "execute_result"
    }
   ],
   "source": [
    "lm.fit(X,y)"
   ]
  },
  {
   "cell_type": "code",
   "execution_count": 14,
   "metadata": {},
   "outputs": [
    {
     "data": {
      "text/plain": [
       "0.07798319327731093"
      ]
     },
     "execution_count": 14,
     "metadata": {},
     "output_type": "execute_result"
    }
   ],
   "source": [
    "lm.score(X,y)"
   ]
  },
  {
   "cell_type": "code",
   "execution_count": 15,
   "metadata": {},
   "outputs": [
    {
     "data": {
      "text/plain": [
       "0.008403361344537815"
      ]
     },
     "execution_count": 15,
     "metadata": {},
     "output_type": "execute_result"
    }
   ],
   "source": [
    "1.0 / len(y.unique())"
   ]
  },
  {
   "cell_type": "code",
   "execution_count": 16,
   "metadata": {
    "collapsed": true
   },
   "outputs": [],
   "source": [
    "from sklearn.pipeline import Pipeline"
   ]
  },
  {
   "cell_type": "code",
   "execution_count": null,
   "metadata": {},
   "outputs": [],
   "source": [
    "# neuronal_pipeline = Pipeline([\n",
    "#     ('inference', EventInferer()),\n",
    "#     ('spike', QuasiSpikeRescale()),\n",
    "# ])\n",
    "\n",
    "\n",
    "pipeline = Pipeline([\n",
    "    ('extract', MeanResponseExtractor(traces,bins=30,range=(0,1.0),)),\n",
    "    ('cluster', LogisticRegression()),\n",
    "])"
   ]
  },
  {
   "cell_type": "code",
   "execution_count": null,
   "metadata": {},
   "outputs": [],
   "source": [
    "pipeline.fit(events,y)"
   ]
  },
  {
   "cell_type": "code",
   "execution_count": null,
   "metadata": {
    "collapsed": true
   },
   "outputs": [],
   "source": [
    "from sklearn.decomposition import PCA"
   ]
  },
  {
   "cell_type": "code",
   "execution_count": null,
   "metadata": {
    "collapsed": true
   },
   "outputs": [],
   "source": [
    "pipeline = Pipeline([\n",
    "    ('extract', MeanResponseExtractor(traces,bins=30,range=(0,1.0),)),\n",
    "    ('dimensionality_reduction',PCA(n_components=3)),\n",
    "    ('cluster', LogisticRegression()),\n",
    "])"
   ]
  },
  {
   "cell_type": "code",
   "execution_count": null,
   "metadata": {},
   "outputs": [],
   "source": [
    "pipeline.fit(events,y)"
   ]
  },
  {
   "cell_type": "code",
   "execution_count": null,
   "metadata": {},
   "outputs": [],
   "source": [
    "pipeline.score(events,y)"
   ]
  },
  {
   "cell_type": "code",
   "execution_count": null,
   "metadata": {
    "collapsed": true
   },
   "outputs": [],
   "source": [
    "from sklearn.model_selection import train_test_split"
   ]
  },
  {
   "cell_type": "code",
   "execution_count": null,
   "metadata": {
    "collapsed": true
   },
   "outputs": [],
   "source": [
    "events_train, events_test, y_train, y_test = train_test_split(events, events['image_id'], test_size=0.33, random_state=42)"
   ]
  },
  {
   "cell_type": "code",
   "execution_count": null,
   "metadata": {
    "collapsed": true
   },
   "outputs": [],
   "source": [
    "from sklearn.linear_model import LogisticRegressionCV\n",
    "\n",
    "pipeline = Pipeline([\n",
    "    ('extract', MeanResponseExtractor(traces,bins=15,range=(0,0.5),)),\n",
    "    ('cluster', LogisticRegressionCV()),\n",
    "])"
   ]
  },
  {
   "cell_type": "code",
   "execution_count": null,
   "metadata": {},
   "outputs": [],
   "source": [
    "pipeline.fit(events_train,y_train)"
   ]
  },
  {
   "cell_type": "code",
   "execution_count": null,
   "metadata": {},
   "outputs": [],
   "source": [
    "pipeline.score(events_test,y_test)"
   ]
  },
  {
   "cell_type": "code",
   "execution_count": null,
   "metadata": {
    "collapsed": true
   },
   "outputs": [],
   "source": [
    "pipeline = Pipeline([\n",
    "    ('extract', MeanResponseExtractor(traces,bins=30,range=(0,1.0),)),\n",
    "#     ('reduce_dim',PCA()),\n",
    "    ('classify', LogisticRegressionCV()),\n",
    "])\n",
    "\n",
    "# N_FEATURES_OPTIONS = [4, 8, 16, 32]\n",
    "RANGE_OPTIONS = [(0,1.0),(0,0.5),(0,0.25)]\n",
    "\n",
    "from sklearn.neighbors import KNeighborsClassifier\n",
    "\n",
    "param_grid = [\n",
    "    {\n",
    "        'extract__range': RANGE_OPTIONS,\n",
    "        'classify': [LogisticRegressionCV(), KNeighborsClassifier()]\n",
    "    },\n",
    "]\n",
    "from sklearn.model_selection import GridSearchCV\n",
    "grid = GridSearchCV(pipeline, cv=3, n_jobs=1, param_grid=param_grid)"
   ]
  },
  {
   "cell_type": "code",
   "execution_count": null,
   "metadata": {},
   "outputs": [],
   "source": [
    "grid.fit(events_train,y_train)"
   ]
  },
  {
   "cell_type": "code",
   "execution_count": null,
   "metadata": {},
   "outputs": [],
   "source": [
    "grid.score(events_test,y_test)"
   ]
  }
 ],
 "metadata": {
  "kernelspec": {
   "display_name": "neuroglia_dev",
   "language": "python",
   "name": "neuroglia_dev"
  },
  "language_info": {
   "codemirror_mode": {
    "name": "ipython",
    "version": 3
   },
   "file_extension": ".py",
   "mimetype": "text/x-python",
   "name": "python",
   "nbconvert_exporter": "python",
   "pygments_lexer": "ipython3",
   "version": "3.6.2"
  }
 },
 "nbformat": 4,
 "nbformat_minor": 2
}
