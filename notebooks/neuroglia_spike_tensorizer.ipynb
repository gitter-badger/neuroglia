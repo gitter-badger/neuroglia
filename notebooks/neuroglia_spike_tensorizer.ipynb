{
 "cells": [
  {
   "cell_type": "code",
   "execution_count": 1,
   "metadata": {
    "collapsed": true
   },
   "outputs": [],
   "source": [
    "import neuroglia"
   ]
  },
  {
   "cell_type": "code",
   "execution_count": 2,
   "metadata": {
    "collapsed": true
   },
   "outputs": [],
   "source": [
    "import numpy as np\n",
    "import pandas as pd"
   ]
  },
  {
   "cell_type": "code",
   "execution_count": 3,
   "metadata": {},
   "outputs": [
    {
     "name": "stdout",
     "output_type": "stream",
     "text": [
      "3773.6246\n"
     ]
    }
   ],
   "source": [
    "def load_population():\n",
    "\n",
    "    sample_rate = 30000.0\n",
    "\n",
    "    cluster_groups = pd.read_csv('data/cluster_groups.csv',sep='\\t')\n",
    "\n",
    "    population = pd.DataFrame(dict(\n",
    "        time = np.load('data/spike_times.npy')[:,0] / sample_rate ,\n",
    "        neuron = np.load('data/spike_clusters.npy'),\n",
    "    ))\n",
    "    \n",
    "    \n",
    "    good_neurons = cluster_groups.groupby('group').get_group('good')['cluster_id']\n",
    "    population = population[population['neuron'].isin(good_neurons)]\n",
    "\n",
    "    return population\n",
    "\n",
    "population = load_population()\n",
    "last_time = population['time'].max()\n",
    "print(last_time)"
   ]
  },
  {
   "cell_type": "code",
   "execution_count": 4,
   "metadata": {
    "collapsed": true
   },
   "outputs": [],
   "source": [
    "import pandas as pd\n",
    "events = pd.DataFrame(dict(\n",
    "    time = [110.0,120.0,130.0,140.0,150.0,160.0],\n",
    "    lbl = ['a','b','a','a','b','b']\n",
    "))"
   ]
  },
  {
   "cell_type": "code",
   "execution_count": 5,
   "metadata": {
    "collapsed": true
   },
   "outputs": [],
   "source": [
    "tensorizer = neuroglia.SpikeTensorizer(\n",
    "    events,\n",
    "    bins=np.arange(-0.1,0.5,0.001),\n",
    ")"
   ]
  },
  {
   "cell_type": "code",
   "execution_count": 6,
   "metadata": {
    "collapsed": true
   },
   "outputs": [],
   "source": [
    "tensor = tensorizer.fit_transform(population)"
   ]
  },
  {
   "cell_type": "code",
   "execution_count": 7,
   "metadata": {},
   "outputs": [
    {
     "data": {
      "text/plain": [
       "<xarray.DataArray (event: 6, time_from_event: 599, neuron: 212)>\n",
       "array([[[            nan,   1.271783e-039, ...,   7.943867e-002,             nan],\n",
       "        [            nan,   1.744559e-038, ...,   6.649138e-002,             nan],\n",
       "        ..., \n",
       "        [            nan,   7.888050e-005, ...,   2.709729e-002,             nan],\n",
       "        [            nan,   1.627042e-004, ...,   3.593922e-002,             nan]],\n",
       "\n",
       "       [[            nan,   0.000000e+000, ...,   4.936190e-002,   1.458120e-017],\n",
       "        [            nan,   0.000000e+000, ...,   5.886101e-002,   2.604046e-018],\n",
       "        ..., \n",
       "        [            nan,   4.013067e-012, ...,   7.929870e-002,   3.353928e-003],\n",
       "        [            nan,   9.922527e-013, ...,   7.953577e-002,   5.453690e-003]],\n",
       "\n",
       "       ..., \n",
       "       [[            nan,   5.773308e-006, ...,   4.139196e-038,   3.326110e-058],\n",
       "        [            nan,   2.362952e-006, ...,   5.383021e-037,   8.181577e-057],\n",
       "        ..., \n",
       "        [            nan,   1.164675e-039, ...,   2.585987e-136,   9.579527e-110],\n",
       "        [            nan,   8.146695e-041, ...,   1.747077e-138,   1.087136e-111]],\n",
       "\n",
       "       [[            nan,   0.000000e+000, ...,   6.733466e-003,   1.914553e-003],\n",
       "        [            nan,   0.000000e+000, ...,   6.733466e-003,   1.480962e-003],\n",
       "        ..., \n",
       "        [            nan,   3.858769e-093, ...,   8.820596e-009,   2.079222e-002],\n",
       "        [            nan,   6.260031e-095, ...,   2.681843e-008,   2.829199e-002]]])\n",
       "Coordinates:\n",
       "  * neuron           (neuron) int64 13 14 20 25 30 32 34 47 55 58 60 65 66 ...\n",
       "  * time_from_event  (time_from_event) float64 -0.1 -0.099 -0.098 -0.097 ...\n",
       "    index            (event) int32 0 1 2 3 4 5\n",
       "    lbl              (event) <U1 'a' 'b' 'a' 'a' 'b' 'b'\n",
       "    time             (event) float64 110.0 120.0 130.0 140.0 150.0 160.0\n",
       "  * event            (event) int64 0 1 2 3 4 5"
      ]
     },
     "execution_count": 7,
     "metadata": {},
     "output_type": "execute_result"
    }
   ],
   "source": [
    "tensor"
   ]
  },
  {
   "cell_type": "code",
   "execution_count": 8,
   "metadata": {},
   "outputs": [
    {
     "data": {
      "text/plain": [
       "[<matplotlib.lines.Line2D at 0x18001e6cf60>]"
      ]
     },
     "execution_count": 8,
     "metadata": {},
     "output_type": "execute_result"
    },
    {
     "data": {
      "image/png": "[encoded data removed]",
      "text/plain": [
       "<matplotlib.figure.Figure at 0x18001c718d0>"
      ]
     },
     "metadata": {},
     "output_type": "display_data"
    }
   ],
   "source": [
    "%matplotlib inline\n",
    "tensor.mean(dim='event').mean('neuron').plot()"
   ]
  },
  {
   "cell_type": "code",
   "execution_count": 9,
   "metadata": {},
   "outputs": [
    {
     "data": {
      "text/plain": [
       "('event', 'time_from_event', 'neuron')"
      ]
     },
     "execution_count": 9,
     "metadata": {},
     "output_type": "execute_result"
    }
   ],
   "source": [
    "tensor.dims"
   ]
  },
  {
   "cell_type": "code",
   "execution_count": 12,
   "metadata": {},
   "outputs": [
    {
     "data": {
      "text/plain": [
       "<xarray.DataArray (time: 6, time_from_event: 599, neuron: 212)>\n",
       "array([[[            nan,   1.271783e-039, ...,   7.943867e-002,             nan],\n",
       "        [            nan,   1.744559e-038, ...,   6.649138e-002,             nan],\n",
       "        ..., \n",
       "        [            nan,   7.888050e-005, ...,   2.709729e-002,             nan],\n",
       "        [            nan,   1.627042e-004, ...,   3.593922e-002,             nan]],\n",
       "\n",
       "       [[            nan,   0.000000e+000, ...,   4.936190e-002,   1.458120e-017],\n",
       "        [            nan,   0.000000e+000, ...,   5.886101e-002,   2.604046e-018],\n",
       "        ..., \n",
       "        [            nan,   4.013067e-012, ...,   7.929870e-002,   3.353928e-003],\n",
       "        [            nan,   9.922527e-013, ...,   7.953577e-002,   5.453690e-003]],\n",
       "\n",
       "       ..., \n",
       "       [[            nan,   5.773308e-006, ...,   4.139196e-038,   3.326110e-058],\n",
       "        [            nan,   2.362952e-006, ...,   5.383021e-037,   8.181577e-057],\n",
       "        ..., \n",
       "        [            nan,   1.164675e-039, ...,   2.585987e-136,   9.579527e-110],\n",
       "        [            nan,   8.146695e-041, ...,   1.747077e-138,   1.087136e-111]],\n",
       "\n",
       "       [[            nan,   0.000000e+000, ...,   6.733466e-003,   1.914553e-003],\n",
       "        [            nan,   0.000000e+000, ...,   6.733466e-003,   1.480962e-003],\n",
       "        ..., \n",
       "        [            nan,   3.858769e-093, ...,   8.820596e-009,   2.079222e-002],\n",
       "        [            nan,   6.260031e-095, ...,   2.681843e-008,   2.829199e-002]]])\n",
       "Coordinates:\n",
       "  * neuron           (neuron) int64 13 14 20 25 30 32 34 47 55 58 60 65 66 ...\n",
       "  * time_from_event  (time_from_event) float64 -0.1 -0.099 -0.098 -0.097 ...\n",
       "    index            (time) int32 0 1 2 3 4 5\n",
       "    lbl              (time) <U1 'a' 'b' 'a' 'a' 'b' 'b'\n",
       "  * time             (time) float64 110.0 120.0 130.0 140.0 150.0 160.0\n",
       "    event            (time) int64 0 1 2 3 4 5"
      ]
     },
     "execution_count": 12,
     "metadata": {},
     "output_type": "execute_result"
    }
   ],
   "source": [
    "tensor.swap_dims({'event':'time'})"
   ]
  }
 ],
 "metadata": {
  "kernelspec": {
   "display_name": "neuroglia_dev",
   "language": "python",
   "name": "neuroglia_dev"
  },
  "language_info": {
   "codemirror_mode": {
    "name": "ipython",
    "version": 3
   },
   "file_extension": ".py",
   "mimetype": "text/x-python",
   "name": "python",
   "nbconvert_exporter": "python",
   "pygments_lexer": "ipython3",
   "version": "3.6.2"
  }
 },
 "nbformat": 4,
 "nbformat_minor": 2
}
