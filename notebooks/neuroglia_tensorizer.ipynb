{
 "cells": [
  {
   "cell_type": "code",
   "execution_count": 1,
   "metadata": {
    "collapsed": true
   },
   "outputs": [],
   "source": [
    "import numpy as np\n",
    "max_time = 100 # seconds\n",
    "fs = 31 # Hz\n",
    "t = np.arange(0,max_time,1.0/31)\n",
    "def make_wave(t):\n",
    "    return 20 * np.sin(0.5 * 2*np.pi*t+np.random.rand()) + np.random.randn(len(t))\n",
    "\n",
    "traces = np.vstack([make_wave(t) for ii in range(3)]).T"
   ]
  },
  {
   "cell_type": "code",
   "execution_count": 2,
   "metadata": {},
   "outputs": [
    {
     "data": {
      "text/html": [
       "<div>\n",
       "<style>\n",
       "    .dataframe thead tr:only-child th {\n",
       "        text-align: right;\n",
       "    }\n",
       "\n",
       "    .dataframe thead th {\n",
       "        text-align: left;\n",
       "    }\n",
       "\n",
       "    .dataframe tbody tr th {\n",
       "        vertical-align: top;\n",
       "    }\n",
       "</style>\n",
       "<table border=\"1\" class=\"dataframe\">\n",
       "  <thead>\n",
       "    <tr style=\"text-align: right;\">\n",
       "      <th></th>\n",
       "      <th>neuron_1</th>\n",
       "      <th>neuron_2</th>\n",
       "      <th>neuron_3</th>\n",
       "    </tr>\n",
       "  </thead>\n",
       "  <tbody>\n",
       "    <tr>\n",
       "      <th>0.000000</th>\n",
       "      <td>6.828803</td>\n",
       "      <td>7.898049</td>\n",
       "      <td>3.461998</td>\n",
       "    </tr>\n",
       "    <tr>\n",
       "      <th>0.032258</th>\n",
       "      <td>8.680258</td>\n",
       "      <td>8.922760</td>\n",
       "      <td>4.980943</td>\n",
       "    </tr>\n",
       "    <tr>\n",
       "      <th>0.064516</th>\n",
       "      <td>10.330507</td>\n",
       "      <td>8.778041</td>\n",
       "      <td>6.275531</td>\n",
       "    </tr>\n",
       "    <tr>\n",
       "      <th>0.096774</th>\n",
       "      <td>13.992609</td>\n",
       "      <td>12.035210</td>\n",
       "      <td>8.284333</td>\n",
       "    </tr>\n",
       "    <tr>\n",
       "      <th>0.129032</th>\n",
       "      <td>14.360911</td>\n",
       "      <td>16.596428</td>\n",
       "      <td>11.498699</td>\n",
       "    </tr>\n",
       "  </tbody>\n",
       "</table>\n",
       "</div>"
      ],
      "text/plain": [
       "           neuron_1   neuron_2   neuron_3\n",
       "0.000000   6.828803   7.898049   3.461998\n",
       "0.032258   8.680258   8.922760   4.980943\n",
       "0.064516  10.330507   8.778041   6.275531\n",
       "0.096774  13.992609  12.035210   8.284333\n",
       "0.129032  14.360911  16.596428  11.498699"
      ]
     },
     "execution_count": 2,
     "metadata": {},
     "output_type": "execute_result"
    }
   ],
   "source": [
    "import pandas as pd\n",
    "traces = pd.DataFrame(traces,\n",
    "                      index=t,\n",
    "                      columns=('neuron_1','neuron_2','neuron_3'),\n",
    "                     )\n",
    "traces.head()\n",
    "# traces.plot()"
   ]
  },
  {
   "cell_type": "code",
   "execution_count": 3,
   "metadata": {
    "collapsed": true
   },
   "outputs": [],
   "source": [
    "import neuroglia"
   ]
  },
  {
   "cell_type": "code",
   "execution_count": 4,
   "metadata": {
    "collapsed": true
   },
   "outputs": [],
   "source": [
    "events = pd.DataFrame(\n",
    "    dict(\n",
    "        time = [1.0,12.2,34.6],\n",
    "        lbl = ['a','b','c'],\n",
    "    )\n",
    ")"
   ]
  },
  {
   "cell_type": "code",
   "execution_count": 5,
   "metadata": {
    "collapsed": true
   },
   "outputs": [],
   "source": [
    "tensorizer = neuroglia.TraceTensorizer(\n",
    "    events,\n",
    "    bins=np.arange(-0.1,0.5,0.02),\n",
    ")"
   ]
  },
  {
   "cell_type": "code",
   "execution_count": 6,
   "metadata": {},
   "outputs": [
    {
     "data": {
      "text/plain": [
       "array([ -1.00000000e-01,  -8.00000000e-02,  -6.00000000e-02,\n",
       "        -4.00000000e-02,  -2.00000000e-02,   1.38777878e-17,\n",
       "         2.00000000e-02,   4.00000000e-02,   6.00000000e-02,\n",
       "         8.00000000e-02,   1.00000000e-01,   1.20000000e-01,\n",
       "         1.40000000e-01,   1.60000000e-01,   1.80000000e-01,\n",
       "         2.00000000e-01,   2.20000000e-01,   2.40000000e-01,\n",
       "         2.60000000e-01,   2.80000000e-01,   3.00000000e-01,\n",
       "         3.20000000e-01,   3.40000000e-01,   3.60000000e-01,\n",
       "         3.80000000e-01,   4.00000000e-01,   4.20000000e-01,\n",
       "         4.40000000e-01,   4.60000000e-01,   4.80000000e-01])"
      ]
     },
     "execution_count": 6,
     "metadata": {},
     "output_type": "execute_result"
    }
   ],
   "source": [
    "tensorizer.bins"
   ]
  },
  {
   "cell_type": "code",
   "execution_count": 7,
   "metadata": {
    "collapsed": true
   },
   "outputs": [],
   "source": [
    "tensor = tensorizer.fit_transform(traces)"
   ]
  },
  {
   "cell_type": "code",
   "execution_count": 8,
   "metadata": {
    "scrolled": false
   },
   "outputs": [
    {
     "data": {
      "text/plain": [
       "<xarray.DataArray (event: 3, time_from_event: 30, neuron: 3)>\n",
       "array([[[ -1.012145,  -2.870167,   3.254282],\n",
       "        [ -2.562017,  -2.400642,   2.260941],\n",
       "        ..., \n",
       "        [-18.886716, -19.752977, -19.644892],\n",
       "        [-18.499311, -19.321478, -19.901694]],\n",
       "\n",
       "       [[ 12.601383,  12.726662,   9.464098],\n",
       "        [ 12.62552 ,  13.295902,  10.361543],\n",
       "        ..., \n",
       "        [ 12.634681,  11.730849,  16.568455],\n",
       "        [ 11.869267,  11.845877,  14.359013]],\n",
       "\n",
       "       [[ 19.329325,  18.576606,  20.288859],\n",
       "        [ 19.163138,  17.592744,  18.484957],\n",
       "        ..., \n",
       "        [-10.916187, -10.634851,  -5.802998],\n",
       "        [-11.991046, -11.365372,  -7.93877 ]]])\n",
       "Coordinates:\n",
       "  * time_from_event  (time_from_event) float64 -0.1 -0.08 -0.06 -0.04 -0.02 ...\n",
       "  * neuron           (neuron) object 'neuron_1' 'neuron_2' 'neuron_3'\n",
       "    index            (event) int32 0 1 2\n",
       "    lbl              (event) <U1 'a' 'b' 'c'\n",
       "    time             (event) float64 1.0 12.2 34.6\n",
       "  * event            (event) int64 0 1 2"
      ]
     },
     "execution_count": 8,
     "metadata": {},
     "output_type": "execute_result"
    }
   ],
   "source": [
    "tensor"
   ]
  },
  {
   "cell_type": "code",
   "execution_count": 9,
   "metadata": {
    "collapsed": true
   },
   "outputs": [],
   "source": [
    "extracted = tensor.where(tensor['lbl']=='a',drop=True)"
   ]
  },
  {
   "cell_type": "code",
   "execution_count": 10,
   "metadata": {
    "collapsed": true
   },
   "outputs": [],
   "source": [
    "%matplotlib inline\n",
    "import matplotlib.pyplot as plt"
   ]
  },
  {
   "cell_type": "code",
   "execution_count": 11,
   "metadata": {},
   "outputs": [
    {
     "data": {
      "text/plain": [
       "<matplotlib.axes._subplots.AxesSubplot at 0x20c2089a7f0>"
      ]
     },
     "execution_count": 11,
     "metadata": {},
     "output_type": "execute_result"
    },
    {
     "data": {
      "image/png": "[encoded data removed]",
      "text/plain": [
       "<matplotlib.figure.Figure at 0x20c208a0da0>"
      ]
     },
     "metadata": {},
     "output_type": "display_data"
    }
   ],
   "source": [
    "f,ax = plt.subplots()\n",
    "ax.plot(tensorizer.bins,np.squeeze(extracted.values))\n",
    "event_time = extracted['time'].values[0]\n",
    "traces_extracted = traces[((traces.index>event_time+tensorizer.bins[0])&(traces.index<=event_time+tensorizer.bins[-1]))]\n",
    "traces_extracted.index -= event_time\n",
    "traces_extracted.plot(ax=ax)"
   ]
  },
  {
   "cell_type": "code",
   "execution_count": 22,
   "metadata": {},
   "outputs": [
    {
     "data": {
      "text/plain": [
       "<xarray.DataArray (event: 3, time_from_event: 25, neuron: 3)>\n",
       "array([[[ -5.589342,  -6.668429,  -1.240818],\n",
       "        [ -7.839958,  -8.677505,  -2.416803],\n",
       "        ..., \n",
       "        [-18.886716, -19.752977, -19.644892],\n",
       "        [-18.499311, -19.321478, -19.901694]],\n",
       "\n",
       "       [[ 15.088036,  17.051197,  14.804846],\n",
       "        [ 17.448983,  16.046668,  16.209078],\n",
       "        ..., \n",
       "        [ 12.634681,  11.730849,  16.568455],\n",
       "        [ 11.869267,  11.845877,  14.359013]],\n",
       "\n",
       "       [[ 17.288018,  14.964567,  19.363819],\n",
       "        [ 16.979814,  13.895663,  18.344832],\n",
       "        ..., \n",
       "        [-10.916187, -10.634851,  -5.802998],\n",
       "        [-11.991046, -11.365372,  -7.93877 ]]])\n",
       "Coordinates:\n",
       "  * time_from_event  (time_from_event) float64 1.388e-17 0.02 0.04 0.06 0.08 ...\n",
       "  * neuron           (neuron) object 'neuron_1' 'neuron_2' 'neuron_3'\n",
       "    index            (event) int32 0 1 2\n",
       "    lbl              (event) <U1 'a' 'b' 'c'\n",
       "    time             (event) float64 1.0 12.2 34.6\n",
       "  * event            (event) int64 0 1 2"
      ]
     },
     "execution_count": 22,
     "metadata": {},
     "output_type": "execute_result"
    }
   ],
   "source": [
    "tensor.where(tensor['time_from_event']>0,drop=True)"
   ]
  },
  {
   "cell_type": "code",
   "execution_count": 29,
   "metadata": {},
   "outputs": [
    {
     "data": {
      "text/plain": [
       "<xarray.DataArray (event: 3, time_from_event: 30, neuron: 3)>\n",
       "array([[[ -1.012145,  -2.870167,   3.254282],\n",
       "        [ -2.562017,  -2.400642,   2.260941],\n",
       "        ..., \n",
       "        [-18.886716, -19.752977, -19.644892],\n",
       "        [-18.499311, -19.321478, -19.901694]],\n",
       "\n",
       "       [[ 12.601383,  12.726662,   9.464098],\n",
       "        [ 12.62552 ,  13.295902,  10.361543],\n",
       "        ..., \n",
       "        [ 12.634681,  11.730849,  16.568455],\n",
       "        [ 11.869267,  11.845877,  14.359013]],\n",
       "\n",
       "       [[ 19.329325,  18.576606,  20.288859],\n",
       "        [ 19.163138,  17.592744,  18.484957],\n",
       "        ..., \n",
       "        [-10.916187, -10.634851,  -5.802998],\n",
       "        [-11.991046, -11.365372,  -7.93877 ]]])\n",
       "Coordinates:\n",
       "  * time_from_event  (time_from_event) float64 -0.1 -0.08 -0.06 -0.04 -0.02 ...\n",
       "  * neuron           (neuron) object 'neuron_1' 'neuron_2' 'neuron_3'\n",
       "    index            (event) int32 0 1 2\n",
       "    lbl              (event) <U1 'a' 'b' 'c'\n",
       "    time             (event) float64 1.0 12.2 34.6\n",
       "  * event            (event) int64 0 1 2"
      ]
     },
     "execution_count": 29,
     "metadata": {},
     "output_type": "execute_result"
    }
   ],
   "source": [
    "tensor"
   ]
  },
  {
   "cell_type": "code",
   "execution_count": 28,
   "metadata": {},
   "outputs": [
    {
     "data": {
      "text/plain": [
       "<xarray.DataArray (time_from_event: 30, neuron: 3)>\n",
       "array([[ 10.306188,   9.4777  ,  11.002413],\n",
       "       [  9.742214,   9.496001,  10.369147],\n",
       "       [  9.338092,   9.472985,   9.733367],\n",
       "       [  9.569115,   8.861601,   9.753117],\n",
       "       [  9.26771 ,   8.757446,  10.499363],\n",
       "       [  8.928904,   8.449112,  10.975949],\n",
       "       [  8.862946,   7.088275,  10.712369],\n",
       "       [  7.858461,   6.523629,   9.570483],\n",
       "       [  6.477215,   6.735777,   8.218485],\n",
       "       [  6.146901,   6.140345,   7.988203],\n",
       "       [  6.286356,   4.965728,   8.196811],\n",
       "       [  5.60612 ,   4.365741,   7.43867 ],\n",
       "       [  4.386395,   4.531959,   6.440987],\n",
       "       [  3.662484,   4.087557,   6.110797],\n",
       "       [  3.577872,   2.62891 ,   6.00061 ],\n",
       "       [  3.105507,   1.788586,   5.539284],\n",
       "       [  1.608023,   1.719889,   4.371424],\n",
       "       [  0.594666,   1.468113,   3.30193 ],\n",
       "       [  0.934616,   0.80925 ,   2.955672],\n",
       "       [  1.291514,  -0.490345,   2.190255],\n",
       "       [  0.681564,  -1.166712,   1.264616],\n",
       "       [ -0.606436,  -1.088227,   0.617994],\n",
       "       [ -2.004647,  -1.708879,  -0.170666],\n",
       "       [ -3.117599,  -2.566763,  -0.620812],\n",
       "       [ -3.474131,  -3.165175,  -0.947135],\n",
       "       [ -3.290571,  -3.60555 ,  -1.147604],\n",
       "       [ -3.884894,  -4.357385,  -1.323436],\n",
       "       [ -5.034121,  -5.576884,  -1.989088],\n",
       "       [ -5.722741,  -6.218993,  -2.959811],\n",
       "       [ -6.20703 ,  -6.280325,  -4.493817]])\n",
       "Coordinates:\n",
       "  * time_from_event  (time_from_event) float64 -0.1 -0.08 -0.06 -0.04 -0.02 ...\n",
       "  * neuron           (neuron) object 'neuron_1' 'neuron_2' 'neuron_3'"
      ]
     },
     "execution_count": 28,
     "metadata": {},
     "output_type": "execute_result"
    }
   ],
   "source": [
    "tensor.mean(axis=0)"
   ]
  },
  {
   "cell_type": "code",
   "execution_count": 31,
   "metadata": {},
   "outputs": [
    {
     "data": {
      "text/plain": [
       "<xarray.DataArray (time_from_event: 30)>\n",
       "array([ 10.2621  ,   9.869121,   9.514815,   9.394611,   9.508173,   9.451322,\n",
       "         8.887864,   7.984191,   7.143826,   6.758483,   6.482965,   5.80351 ,\n",
       "         5.11978 ,   4.620279,   4.069131,   3.477792,   2.566445,   1.788237,\n",
       "         1.566513,   0.997141,   0.259822,  -0.35889 ,  -1.294731,  -2.101725,\n",
       "        -2.528814,  -2.681242,  -3.188572,  -4.200031,  -4.967182,  -5.660391])\n",
       "Coordinates:\n",
       "  * time_from_event  (time_from_event) float64 -0.1 -0.08 -0.06 -0.04 -0.02 ..."
      ]
     },
     "execution_count": 31,
     "metadata": {},
     "output_type": "execute_result"
    }
   ],
   "source": [
    "tensor.mean(dim='event').mean(dim='neuron')"
   ]
  },
  {
   "cell_type": "code",
   "execution_count": 32,
   "metadata": {},
   "outputs": [
    {
     "data": {
      "text/plain": [
       "<xarray.DataArray (time_from_event: 30)>\n",
       "array([ True,  True,  True,  True,  True,  True,  True,  True,  True,  True,\n",
       "        True,  True,  True, False, False, False, False, False, False, False,\n",
       "       False, False, False, False, False, False, False, False, False, False], dtype=bool)\n",
       "Coordinates:\n",
       "  * time_from_event  (time_from_event) float64 -0.1 -0.08 -0.06 -0.04 -0.02 ..."
      ]
     },
     "execution_count": 32,
     "metadata": {},
     "output_type": "execute_result"
    }
   ],
   "source": [
    "tensor.mean(dim='event').mean(dim='neuron') > 5"
   ]
  },
  {
   "cell_type": "code",
   "execution_count": 33,
   "metadata": {},
   "outputs": [
    {
     "data": {
      "text/plain": [
       "<xarray.DataArray (event: 3, time_from_event: 13, neuron: 3)>\n",
       "array([[[ -1.012145,  -2.870167,   3.254282],\n",
       "        [ -2.562017,  -2.400642,   2.260941],\n",
       "        [ -3.427344,  -2.917598,   1.076841],\n",
       "        [ -4.064086,  -5.909781,  -0.11386 ],\n",
       "        [ -4.556457,  -6.934906,  -0.769163],\n",
       "        [ -5.589342,  -6.668429,  -1.240818],\n",
       "        [ -7.839958,  -8.677505,  -2.416803],\n",
       "        [-10.041387, -10.673346,  -4.510008],\n",
       "        [-11.194448, -11.253919,  -6.746341],\n",
       "        [-11.417759, -12.013741,  -7.609383],\n",
       "        [-11.662063, -13.03035 ,  -8.380122],\n",
       "        [-12.672253, -13.824997, -10.362937],\n",
       "        [-13.805969, -14.624099, -11.595805]],\n",
       "\n",
       "       [[ 12.601383,  12.726662,   9.464098],\n",
       "        [ 12.62552 ,  13.295902,  10.361543],\n",
       "        [ 14.205279,  14.352831,  10.61594 ],\n",
       "        [ 16.363751,  15.902452,  11.157655],\n",
       "        [ 15.333958,  17.180059,  12.763359],\n",
       "        [ 15.088036,  17.051197,  14.804846],\n",
       "        [ 17.448983,  16.046668,  16.209078],\n",
       "        [ 17.619203,  17.09704 ,  16.09342 ],\n",
       "        [ 16.707267,  19.022893,  15.754289],\n",
       "        [ 17.885479,  19.288415,  16.793639],\n",
       "        [ 19.314016,  18.777842,  18.021518],\n",
       "        [ 19.645272,  18.88624 ,  18.675276],\n",
       "        [ 19.177451,  20.354764,  19.009257]],\n",
       "\n",
       "       [[ 19.329325,  18.576606,  20.288859],\n",
       "        [ 19.163138,  17.592744,  18.484957],\n",
       "        [ 17.236343,  16.983723,  17.507322],\n",
       "        [ 16.407679,  16.592131,  18.215555],\n",
       "        [ 17.02563 ,  16.027185,  19.503893],\n",
       "        [ 17.288018,  14.964567,  19.363819],\n",
       "        [ 16.979814,  13.895663,  18.344832],\n",
       "        [ 15.997566,  13.147193,  17.128038],\n",
       "        [ 13.918826,  12.438359,  15.647506],\n",
       "        [ 11.972981,  11.14636 ,  14.780354],\n",
       "        [ 11.207115,   9.149692,  14.949039],\n",
       "        [  9.845341,   8.03598 ,  14.003672],\n",
       "        [  7.787703,   7.86521 ,  11.909509]]])\n",
       "Coordinates:\n",
       "  * time_from_event  (time_from_event) float64 -0.1 -0.08 -0.06 -0.04 -0.02 ...\n",
       "  * neuron           (neuron) object 'neuron_1' 'neuron_2' 'neuron_3'\n",
       "    index            (event) int32 0 1 2\n",
       "    lbl              (event) <U1 'a' 'b' 'c'\n",
       "    time             (event) float64 1.0 12.2 34.6\n",
       "  * event            (event) int64 0 1 2"
      ]
     },
     "execution_count": 33,
     "metadata": {},
     "output_type": "execute_result"
    }
   ],
   "source": [
    "tensor.where(tensor.mean(dim='event').mean(dim='neuron') > 5,drop=True)"
   ]
  },
  {
   "cell_type": "code",
   "execution_count": 36,
   "metadata": {},
   "outputs": [
    {
     "data": {
      "text/plain": [
       "<xarray.Dataset>\n",
       "Dimensions:   (index: 3100)\n",
       "Coordinates:\n",
       "  * index     (index) float64 0.0 0.03226 0.06452 0.09677 0.129 0.1613 ...\n",
       "Data variables:\n",
       "    neuron_1  (index) float64 6.829 8.68 10.33 13.99 14.36 14.44 15.82 17.78 ...\n",
       "    neuron_2  (index) float64 7.898 8.923 8.778 12.04 16.6 13.34 17.44 15.08 ...\n",
       "    neuron_3  (index) float64 3.462 4.981 6.276 8.284 11.5 11.76 13.66 13.39 ..."
      ]
     },
     "execution_count": 36,
     "metadata": {},
     "output_type": "execute_result"
    }
   ],
   "source": [
    "traces.to_xarray()"
   ]
  },
  {
   "cell_type": "code",
   "execution_count": 38,
   "metadata": {},
   "outputs": [],
   "source": [
    "traces_x = traces.to_xarray()"
   ]
  },
  {
   "cell_type": "code",
   "execution_count": 41,
   "metadata": {},
   "outputs": [
    {
     "data": {
      "text/plain": [
       "<xarray.DataArray 'neuron_1' (index: 3100)>\n",
       "array([ True,  True,  True, ...,  True,  True,  True], dtype=bool)\n",
       "Coordinates:\n",
       "  * index    (index) float64 0.0 0.03226 0.06452 0.09677 0.129 0.1613 0.1935 ..."
      ]
     },
     "execution_count": 41,
     "metadata": {},
     "output_type": "execute_result"
    }
   ],
   "source": [
    "traces_x['neuron_1']>0"
   ]
  },
  {
   "cell_type": "code",
   "execution_count": 42,
   "metadata": {
    "collapsed": true
   },
   "outputs": [],
   "source": [
    "mask = traces_x['neuron_1']>0"
   ]
  },
  {
   "cell_type": "code",
   "execution_count": 44,
   "metadata": {},
   "outputs": [
    {
     "data": {
      "text/plain": [
       "<xarray.Dataset>\n",
       "Dimensions:   (index: 1547)\n",
       "Coordinates:\n",
       "  * index     (index) float64 0.0 0.03226 0.06452 0.09677 0.129 0.1613 ...\n",
       "Data variables:\n",
       "    neuron_1  (index) float64 6.829 8.68 10.33 13.99 14.36 14.44 15.82 17.78 ...\n",
       "    neuron_2  (index) float64 7.898 8.923 8.778 12.04 16.6 13.34 17.44 15.08 ...\n",
       "    neuron_3  (index) float64 3.462 4.981 6.276 8.284 11.5 11.76 13.66 13.39 ..."
      ]
     },
     "execution_count": 44,
     "metadata": {},
     "output_type": "execute_result"
    }
   ],
   "source": [
    "traces_x.where(mask,drop=True)"
   ]
  },
  {
   "cell_type": "code",
   "execution_count": 46,
   "metadata": {},
   "outputs": [
    {
     "data": {
      "text/plain": [
       "<xarray.DataArray (index: 1547)>\n",
       "array([ 7.898049,  8.92276 ,  8.778041, ...,  3.521183,  4.855205,  5.745158])\n",
       "Coordinates:\n",
       "  * index    (index) float64 0.0 0.03226 0.06452 0.09677 0.129 0.1613 0.1935 ..."
      ]
     },
     "execution_count": 46,
     "metadata": {},
     "output_type": "execute_result"
    }
   ],
   "source": [
    "traces_x['neuron_2'].where(mask,drop=True)"
   ]
  }
 ],
 "metadata": {
  "kernelspec": {
   "display_name": "neuroglia_dev",
   "language": "python",
   "name": "neuroglia_dev"
  },
  "language_info": {
   "codemirror_mode": {
    "name": "ipython",
    "version": 3
   },
   "file_extension": ".py",
   "mimetype": "text/x-python",
   "name": "python",
   "nbconvert_exporter": "python",
   "pygments_lexer": "ipython3",
   "version": "3.6.2"
  }
 },
 "nbformat": 4,
 "nbformat_minor": 2
}
